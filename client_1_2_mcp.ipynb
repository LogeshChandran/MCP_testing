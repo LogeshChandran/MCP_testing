{
 "cells": [
  {
   "cell_type": "code",
   "execution_count": null,
   "id": "8ca1c1aa",
   "metadata": {},
   "outputs": [],
   "source": [
    "from langfuse import Langfuse\n",
    "\n",
    "langfuse = Langfuse(\n",
    "  secret_key=\"sk-lf-8581db31-f2ca-4f3d-82b8-ab5f873132da\",\n",
    "  public_key=\"pk-lf-ca4bf373-d6d1-4c99-9133-cedbe6ff9d5d\",\n",
    "  host=\"https://us.cloud.langfuse.com\"\n",
    ")"
   ]
  },
  {
   "cell_type": "code",
   "execution_count": null,
   "id": "276b1c61",
   "metadata": {},
   "outputs": [],
   "source": [
    "import asyncio\n",
    "from fastmcp import Client, FastMCP\n",
    "\n",
    "client = Client(\"http://localhost:8010/sec_mcp/mcp/\")\n",
    "# client = Client(\"http://localhost:8010/first_mcp/mcp/\")\n",
    "\n",
    "print(client)\n",
    "async def main():\n",
    "    async with client:\n",
    "        res = await client.ping()\n",
    "        print(res)\n",
    "        tools = await client.list_tools()\n",
    "        return tools"
   ]
  },
  {
   "cell_type": "code",
   "execution_count": null,
   "id": "6830291f",
   "metadata": {},
   "outputs": [],
   "source": [
    "tools = await main()"
   ]
  },
  {
   "cell_type": "code",
   "execution_count": null,
   "id": "b969ed57",
   "metadata": {},
   "outputs": [],
   "source": [
    "tools"
   ]
  },
  {
   "cell_type": "code",
   "execution_count": null,
   "id": "ba606d3e",
   "metadata": {},
   "outputs": [],
   "source": [
    "import asyncio\n",
    "from fastmcp import Client, FastMCP\n",
    "\n",
    "# client = Client(\"http://localhost:8010/sec_mcp/mcp/\")\n",
    "client = Client(\"http://localhost:8010/first_mcp/mcp/\")\n",
    "\n",
    "print(client)\n",
    "async def main():\n",
    "    async with client:\n",
    "        res = await client.ping()\n",
    "        print(res)\n",
    "        tools = await client.list_tools()\n",
    "\n",
    "        # result = await client.call_tool(\"my_tool\", {})\n",
    "        # print(result)\n",
    "        return tools"
   ]
  },
  {
   "cell_type": "code",
   "execution_count": null,
   "id": "4de2b6ea",
   "metadata": {},
   "outputs": [],
   "source": [
    "tools = await main()"
   ]
  },
  {
   "cell_type": "code",
   "execution_count": null,
   "id": "0eddce63",
   "metadata": {},
   "outputs": [],
   "source": [
    "tools"
   ]
  },
  {
   "cell_type": "code",
   "execution_count": null,
   "id": "bad38858",
   "metadata": {},
   "outputs": [],
   "source": [
    "from langchain_openai import ChatOpenAI\n",
    "llm = ChatOpenAI(\n",
    "    api_key=\"ollama\",\n",
    "    model=\"qwen3:1.7b\",\n",
    "    base_url=\"http://localhost:11434/v1\",\n",
    ")"
   ]
  },
  {
   "cell_type": "code",
   "execution_count": null,
   "id": "0d008e19",
   "metadata": {},
   "outputs": [],
   "source": [
    "from langchain_mcp_adapters.client import MultiServerMCPClient\n",
    "# from langgraph.prebuilt import create_react_agent\n",
    "\n",
    "client = MultiServerMCPClient(\n",
    "    {\n",
    "        \"weather\": {\n",
    "            # Make sure you start your weather server on port 8000\n",
    "            \"url\": \"http://localhost:8010/first_mcp/mcp/\",\n",
    "            \"transport\": \"streamable_http\",\n",
    "            \"headers\":{}\n",
    "        },\n",
    "        # \"weather1\": {\n",
    "        #     # Make sure you start your weather server on port 8000\n",
    "        #     \"url\": \"http://localhost:8010/sec_mcp/mcp/\",\n",
    "        #     \"transport\": \"streamable_http\",\n",
    "        # }\n",
    "    }\n",
    ")"
   ]
  },
  {
   "cell_type": "code",
   "execution_count": null,
   "id": "31eebd3f",
   "metadata": {},
   "outputs": [],
   "source": [
    "tools = await client.get_tools()\n",
    "tools"
   ]
  },
  {
   "cell_type": "code",
   "execution_count": null,
   "id": "b18fcfb0",
   "metadata": {},
   "outputs": [],
   "source": [
    "for connection in client.connections.values():\n",
    "    print(connection)\n",
    "    params = {k: v for k, v in connection.items() if k != \"transport\"}\n",
    "    print(params)"
   ]
  },
  {
   "cell_type": "code",
   "execution_count": null,
   "id": "d9179f46",
   "metadata": {},
   "outputs": [],
   "source": [
    "tools"
   ]
  },
  {
   "cell_type": "code",
   "execution_count": null,
   "id": "f30a2a5d",
   "metadata": {},
   "outputs": [],
   "source": [
    "llm_with_tools = llm.bind_tools(tools)"
   ]
  },
  {
   "cell_type": "code",
   "execution_count": 55,
   "id": "42cd14cb",
   "metadata": {},
   "outputs": [],
   "source": [
    "for x in [100,200,300,400,500,600]:\n",
    "    await tools[3].ainvoke({'x':x,'y':10,'langfuse_trace_id':\"33333\", \"langfuse_parent_observation_id\":\"22222\"})"
   ]
  },
  {
   "cell_type": "code",
   "execution_count": null,
   "id": "9f1482fb",
   "metadata": {},
   "outputs": [],
   "source": [
    "# [context.message.arguments.pop(x) for x in (context.message.arguments.keys() - tool.parameters['properties'].keys())]"
   ]
  },
  {
   "cell_type": "code",
   "execution_count": null,
   "id": "5c9d649c",
   "metadata": {},
   "outputs": [],
   "source": []
  },
  {
   "cell_type": "code",
   "execution_count": null,
   "id": "23a4ce4d",
   "metadata": {},
   "outputs": [],
   "source": []
  }
 ],
 "metadata": {
  "kernelspec": {
   "display_name": ".venv",
   "language": "python",
   "name": "python3"
  },
  "language_info": {
   "codemirror_mode": {
    "name": "ipython",
    "version": 3
   },
   "file_extension": ".py",
   "mimetype": "text/x-python",
   "name": "python",
   "nbconvert_exporter": "python",
   "pygments_lexer": "ipython3",
   "version": "3.12.10"
  }
 },
 "nbformat": 4,
 "nbformat_minor": 5
}
